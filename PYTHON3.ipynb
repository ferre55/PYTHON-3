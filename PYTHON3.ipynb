{
 "cells": [
  {
   "cell_type": "markdown",
   "id": "05b1094c-47b3-45f1-83ad-6bff000eb744",
   "metadata": {},
   "source": [
    "## __PYTHON 3__"
   ]
  },
  {
   "cell_type": "markdown",
   "id": "2354a7ba-6632-4269-b6a2-bdeadf4440bf",
   "metadata": {},
   "source": [
    "* Creates a menu with a list of animals.\n",
    "* Allows the user to select the animal.\n",
    "* Displays by console a design of the animal based on the user's decision."
   ]
  },
  {
   "cell_type": "markdown",
   "id": "2b64b0f8-a897-4d8d-ab57-b8f8777b0d01",
   "metadata": {},
   "source": [
    "Flowchart <img src=\"PYTHON3.png\" width=400 height=400 />"
   ]
  },
  {
   "cell_type": "code",
   "execution_count": 33,
   "id": "1621fe4d-9588-4482-943d-54b3ba160e89",
   "metadata": {},
   "outputs": [
    {
     "name": "stdout",
     "output_type": "stream",
     "text": [
      "Please select a animal \n",
      "\n",
      "1.Dog \n",
      "2.Cat \n",
      "0.Exit \n",
      "\n"
     ]
    },
    {
     "name": "stdin",
     "output_type": "stream",
     "text": [
      "Enter a option: 1\n"
     ]
    },
    {
     "name": "stdout",
     "output_type": "stream",
     "text": [
      "    \n",
      "        ▄              ▄    \n",
      "        ▌▒█           ▄▀▒▌   \n",
      "        ▌▒▒█        ▄▀▒▒▒▐   \n",
      "       ▐▄█▒▒▀▀▀▀▄▄▄▀▒▒▒▒▒▐   \n",
      "     ▄▄▀▒▒▒▒▒▒▒▒▒▒▒█▒▒▄█▒▐   \n",
      "   ▄▀▒▒▒░░░▒▒▒░░░▒▒▒▀██▀▒▌   \n",
      "  ▐▒▒▒▄▄▒▒▒▒▒▒▒▒▒▒▒▒▒▒▒▀▄▒▌  \n",
      "  ▌░░▌█▀▒▒▒▒▒▄▀█▄▒▒▒▒▒▒▒█▒▐  \n",
      " ▐░░░▒▒▒▒▒▒▒▒▌██▀▒▒░░░▒▒▒▀▄▌ \n",
      " ▌░▒▒▒▒▒▒▒▒▒▒▒▒▒▒░░░░░░▒▒▒▒▌ \n",
      "▌▒▒▒▄██▄▒▒▒▒▒▒▒▒░░░░░░░░▒▒▒▐ \n",
      "▐▒▒▐▄█▄█▌▒▒▒▒▒▒▒▒▒▒░▒░▒░▒▒▒▒▌\n",
      "▐▒▒▐▀▐▀▒▒▒▒▒▒▒▒▒▒▒▒▒░▒░▒░▒▒▐ \n",
      " ▌▒▒▀▄▄▄▄▄▄▒▒▒▒▒▒▒▒░▒░▒░▒▒▒▌ \n",
      " ▐▒▒▒▒▒▒▒▒▒▒▒▒▒▒▒▒░▒░▒▒▄▒▒▐  \n",
      "  ▀▄▒▒▒▒▒▒▒▒▒▒▒▒▒░▒░▒▄▒▒▒▒▌  \n",
      "    ▀▄▒▒▒▒▒▒▒▒▒▒▄▄▄▀▒▒▒▒▄▀   \n",
      "      ▀▄▄▄▄▄▄▀▀▀▒▒▒▒▒▄▄▀     \n",
      "         ▀▀▀▀▀▀▀▀▀▀▀▀        \n",
      "\n",
      "    \n"
     ]
    }
   ],
   "source": [
    "print('Please select a animal \\n')\n",
    "\n",
    "print('1.Dog ')\n",
    "\n",
    "print('2.Cat ')\n",
    "\n",
    "print('0.Exit \\n')\n",
    "\n",
    "exit= \" \"\n",
    "\n",
    "animal_selected= input(\"Enter a option:\")\n",
    "animal_selected= int(animal_selected)\n",
    "\n",
    "if animal_selected == 1:\n",
    "    \n",
    "    print( r\"\"\"    \n",
    "        ▄              ▄    \n",
    "        ▌▒█           ▄▀▒▌   \n",
    "        ▌▒▒█        ▄▀▒▒▒▐   \n",
    "       ▐▄█▒▒▀▀▀▀▄▄▄▀▒▒▒▒▒▐   \n",
    "     ▄▄▀▒▒▒▒▒▒▒▒▒▒▒█▒▒▄█▒▐   \n",
    "   ▄▀▒▒▒░░░▒▒▒░░░▒▒▒▀██▀▒▌   \n",
    "  ▐▒▒▒▄▄▒▒▒▒▒▒▒▒▒▒▒▒▒▒▒▀▄▒▌  \n",
    "  ▌░░▌█▀▒▒▒▒▒▄▀█▄▒▒▒▒▒▒▒█▒▐  \n",
    " ▐░░░▒▒▒▒▒▒▒▒▌██▀▒▒░░░▒▒▒▀▄▌ \n",
    " ▌░▒▒▒▒▒▒▒▒▒▒▒▒▒▒░░░░░░▒▒▒▒▌ \n",
    "▌▒▒▒▄██▄▒▒▒▒▒▒▒▒░░░░░░░░▒▒▒▐ \n",
    "▐▒▒▐▄█▄█▌▒▒▒▒▒▒▒▒▒▒░▒░▒░▒▒▒▒▌\n",
    "▐▒▒▐▀▐▀▒▒▒▒▒▒▒▒▒▒▒▒▒░▒░▒░▒▒▐ \n",
    " ▌▒▒▀▄▄▄▄▄▄▒▒▒▒▒▒▒▒░▒░▒░▒▒▒▌ \n",
    " ▐▒▒▒▒▒▒▒▒▒▒▒▒▒▒▒▒░▒░▒▒▄▒▒▐  \n",
    "  ▀▄▒▒▒▒▒▒▒▒▒▒▒▒▒░▒░▒▄▒▒▒▒▌  \n",
    "    ▀▄▒▒▒▒▒▒▒▒▒▒▄▄▄▀▒▒▒▒▄▀   \n",
    "      ▀▄▄▄▄▄▄▀▀▀▒▒▒▒▒▄▄▀     \n",
    "         ▀▀▀▀▀▀▀▀▀▀▀▀        \n",
    "\n",
    "    \"\"\")\n",
    "elif animal_selected== 2:\n",
    "    \n",
    "    print(r\"\"\"\n",
    "          \n",
    "        ████                      ████        \n",
    "      ██░░░░██                  ██░░░░██      \n",
    "      ██░░░░██                  ██░░░░██      \n",
    "    ██░░░░░░░░██████████████████░░░░░░░░██    \n",
    "    ██░░░░░░░░▓▓▓▓░░▓▓▓▓▓▓░░▓▓▓▓░░░░░░░░██    \n",
    "    ██░░░░░░░░▓▓▓▓░░▓▓▓▓▓▓░░▓▓▓▓░░░░░░░░██    \n",
    "  ██░░░░░░░░░░░░░░░░░░░░░░░░░░░░░░░░░░░░░░██  \n",
    "  ██░░██░░░░████░░░░░░░░░░░░░░████░░░░██░░██  \n",
    "  ██░░░░██░░████░░░░░░██░░░░░░████░░██░░░░██  \n",
    "██░░░░██░░░░░░░░░░░░██████░░░░░░░░░░░░██░░░░██\n",
    "██░░░░░░░░░░░░░░░░░░░░░░░░░░░░░░░░░░░░░░░░░░██\n",
    "██░░░░░░░░░░░░░░░░░░░░░░░░░░░░░░░░░░░░░░░░░░██\n",
    "██▓▓▓▓░░░░░░░░░░░░░░░░░░░░░░░░░░░░░░░░░░▓▓▓▓██\n",
    "██▓▓▓▓░░░░░░░░░░░░░░░░░░░░░░░░░░░░░░░░░░▓▓▓▓██\n",
    "██░░░░░░░░░░░░░░░░░░░░░░░░░░░░░░░░░░░░░░░░░░██\n",
    "          \n",
    "          \"\"\")\n",
    "else:\n",
    "    print(exit)\n",
    "\n",
    "\n",
    "\n",
    "\n"
   ]
  },
  {
   "cell_type": "code",
   "execution_count": null,
   "id": "786a8002-86b0-44c9-ae59-a8ec0325f24e",
   "metadata": {},
   "outputs": [],
   "source": []
  }
 ],
 "metadata": {
  "kernelspec": {
   "display_name": "Python 3 (ipykernel)",
   "language": "python",
   "name": "python3"
  },
  "language_info": {
   "codemirror_mode": {
    "name": "ipython",
    "version": 3
   },
   "file_extension": ".py",
   "mimetype": "text/x-python",
   "name": "python",
   "nbconvert_exporter": "python",
   "pygments_lexer": "ipython3",
   "version": "3.9.7"
  }
 },
 "nbformat": 4,
 "nbformat_minor": 5
}
